{
 "cells": [
  {
   "cell_type": "markdown",
   "metadata": {},
   "source": [
    "# Introduction/Business Problem\n"
   ]
  },
  {
   "cell_type": "markdown",
   "metadata": {},
   "source": [
    " ### New York City has the largest population of Italian Americans in the United States of America and one of the most vibrant ‘Little Italy’ communities in North America. Over 1.3 million Italians and Italian-Americans live in the greater New York City metro area, with about 800,000 living within one of the five New York City boroughs. Many residents of New York and tourists alike explore New York City to try the authentic Italian Cuisine. The Tourism industry in New York is especially big, with a record high of 62.8 million tourists recorded in 2017. One of the questions a tourist may face is with a limited time to spend in the city, what are the best restaurants to dine at? In particular, which neighbourhood and restaurant should one visit for the best authentic Italian cuisine? \n",
    "\n",
    "### In this report, we seek to find the best Italian restaurants in New York using a data driven analysis of ratings and customer sentiments towards various Italian restaurants. The target audience for this data analysis is both restaurant customers and tourists as well as stakeholders of the restaurant & hospitality industry, and tourism industry.\n",
    "\n",
    "### We will dive into the data by first visualizing the major parts of New York City that have Italian restaurants. We will then find the best location in NYC for Italian Cuisine, and find the highest rated restaurant and neighborhood for Italian Cuisine.\n"
   ]
  },
  {
   "cell_type": "markdown",
   "metadata": {},
   "source": [
    "# Data"
   ]
  },
  {
   "cell_type": "markdown",
   "metadata": {},
   "source": [
    "\n",
    "### The data we will use to conduct this analysis is information on New York Boroughs and Neighborhoods, as well as Italian restaurant listings and ratings.\n",
    "\n",
    "### The Data will be sourced from:\n",
    "\n",
    "### 1.\tDataset on New York City containing a list of Boroughs, Neighborhoods, and their Latitude and Longitude Coordinates: Data set = https://cocl.us/new_york_dataset\n",
    "\n",
    "### 2.\tThe Foursquare API will provide data on all the Italian restaurants in New York City neighborhoods."
   ]
  },
  {
   "cell_type": "code",
   "execution_count": null,
   "metadata": {},
   "outputs": [],
   "source": []
  }
 ],
 "metadata": {
  "kernelspec": {
   "display_name": "Python 3",
   "language": "python",
   "name": "python3"
  },
  "language_info": {
   "codemirror_mode": {
    "name": "ipython",
    "version": 3
   },
   "file_extension": ".py",
   "mimetype": "text/x-python",
   "name": "python",
   "nbconvert_exporter": "python",
   "pygments_lexer": "ipython3",
   "version": "3.7.6"
  }
 },
 "nbformat": 4,
 "nbformat_minor": 4
}

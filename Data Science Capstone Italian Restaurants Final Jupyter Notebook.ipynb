{
 "cells": [
  {
   "cell_type": "code",
   "execution_count": 1,
   "metadata": {},
   "outputs": [
    {
     "name": "stdout",
     "output_type": "stream",
     "text": [
      "Collecting package metadata (current_repodata.json): ...working... done\n",
      "Solving environment: ...working... done\n",
      "\n",
      "# All requested packages already installed.\n",
      "\n",
      "Collecting package metadata (current_repodata.json): ...working... done\n",
      "Solving environment: ...working... done\n",
      "\n",
      "# All requested packages already installed.\n",
      "\n",
      "Collecting package metadata (current_repodata.json): ...working... done\n",
      "Solving environment: ...working... done\n",
      "\n",
      "# All requested packages already installed.\n",
      "\n",
      "Libraries imported.\n"
     ]
    }
   ],
   "source": [
    "import pandas as pd\n",
    "import numpy as np\n",
    "pd.set_option('display.max_columns', None)\n",
    "pd.set_option('display.max_rows', None)\n",
    "import requests\n",
    "from bs4 import BeautifulSoup\n",
    "\n",
    "\n",
    "!conda install -c conda-forge folium=0.5.0 --yes \n",
    "import folium # map rendering library\n",
    "\n",
    "\n",
    "!conda install -c conda-forge geopy --yes \n",
    "from geopy.geocoders import Nominatim # convert an address into latitude and longitude values\n",
    "\n",
    "!conda install -c conda-forge geocoder --yes \n",
    "import geocoder\n",
    "import os\n",
    "\n",
    "# Matplotlib and associated plotting modules\n",
    "import matplotlib.pyplot as plt\n",
    "import matplotlib.cm as cm\n",
    "import matplotlib.colors as colors\n",
    "%matplotlib inline\n",
    "\n",
    "\n",
    "print('Libraries imported.')"
   ]
  },
  {
   "cell_type": "code",
   "execution_count": 2,
   "metadata": {},
   "outputs": [],
   "source": [
    "#define a function to get geocodes"
   ]
  },
  {
   "cell_type": "code",
   "execution_count": 3,
   "metadata": {},
   "outputs": [],
   "source": [
    "def geo_location(address):\n",
    "    # get geo location of address\n",
    "    geolocator = Nominatim(user_agent=\"ny_explorer\")\n",
    "    location = geolocator.geocode(address)\n",
    "    latitude = location.latitude\n",
    "    longitude = location.longitude\n",
    "    return latitude,longitude"
   ]
  },
  {
   "cell_type": "markdown",
   "metadata": {},
   "source": [
    "#We define a function to intract with FourSquare API and get top 100 venues within a radius of 1000 metres for a given latitude and longitude. Below function will return us the venue id , venue name and category.\n"
   ]
  },
  {
   "cell_type": "code",
   "execution_count": 19,
   "metadata": {},
   "outputs": [],
   "source": [
    "def get_venues(lat,lng):\n",
    "    \n",
    "    #set variables\n",
    "    radius=1000\n",
    "    LIMIT=500\n",
    "    CLIENT_ID = '3LQ0TS5MXDYATJ2XPF3EZ4ABPPB4SAYDJQVDRBHRU0QFE0SY' # your Foursquare ID\n",
    "    CLIENT_SECRET = 'GBJ5HYTVY42GAQZF4QS0E5XIP0CUVEPYSNLCBJNLJQE43SDF' # your Foursquare Secret\n",
    "    VERSION = '20200621' # Foursquare API version\n",
    "    \n",
    "    #url to fetch data from foursquare api\n",
    "    url = 'https://api.foursquare.com/v2/venues/explore?&client_id={}&client_secret={}&v={}&ll={},{}&radius={}&limit={}'.format(\n",
    "            CLIENT_ID, \n",
    "            CLIENT_SECRET, \n",
    "            VERSION, \n",
    "            lat, \n",
    "            lng, \n",
    "            radius, \n",
    "            LIMIT)\n",
    "    \n",
    "    # get all the data\n",
    "    results = requests.get(url).json()\n",
    "    venue_data=results[\"response\"][\"groups\"][0][\"items\"]\n",
    "    venue_details=[]\n",
    "    for row in venue_data:\n",
    "        try:\n",
    "            venue_id=row['venue']['id']\n",
    "            venue_name=row['venue']['name']\n",
    "            venue_category=row['venue']['categories'][0]['name']\n",
    "            venue_details.append([venue_id,venue_name,venue_category])\n",
    "        except KeyError:\n",
    "            pass\n",
    "        \n",
    "    column_names=['ID','Name','Category']\n",
    "    df = pd.DataFrame(venue_details,columns=column_names)\n",
    "    return df"
   ]
  },
  {
   "cell_type": "markdown",
   "metadata": {},
   "source": [
    "Now we will define a function to get venue details like like count , rating , tip counts for a given venue id. This will be used for ranking."
   ]
  },
  {
   "cell_type": "code",
   "execution_count": 20,
   "metadata": {},
   "outputs": [],
   "source": [
    "def get_venue_details(venue_id):\n",
    "        \n",
    "    CLIENT_ID = '3LQ0TS5MXDYATJ2XPF3EZ4ABPPB4SAYDJQVDRBHRU0QFE0SY' # your Foursquare ID\n",
    "    CLIENT_SECRET = 'GBJ5HYTVY42GAQZF4QS0E5XIP0CUVEPYSNLCBJNLJQE43SDF' # your Foursquare Secret\n",
    "    VERSION = '20200621' # Foursquare API version\n",
    "    \n",
    "    #url to fetch data from foursquare api\n",
    "    url = 'https://api.foursquare.com/v2/venues/{}?&client_id={}&client_secret={}&v={}'.format(\n",
    "            venue_id,\n",
    "            CLIENT_ID, \n",
    "            CLIENT_SECRET, \n",
    "            VERSION)\n",
    "    \n",
    "    # get all the data\n",
    "    results = requests.get(url).json()\n",
    "    venue_data=results['response']['venue']\n",
    "    venue_details=[]\n",
    "    try:\n",
    "        venue_id=venue_data['id']\n",
    "        venue_name=venue_data['name']\n",
    "        venue_likes=venue_data['likes']['count']\n",
    "        venue_rating=venue_data['rating']\n",
    "        venue_tips=venue_data['tips']['count']\n",
    "        venue_details.append([venue_id,venue_name,venue_likes,venue_rating,venue_tips])\n",
    "    except KeyError:\n",
    "        pass\n",
    "        \n",
    "    column_names=['ID','Name','Likes','Rating','Tips']\n",
    "    df = pd.DataFrame(venue_details,columns=column_names)\n",
    "    return df"
   ]
  },
  {
   "cell_type": "markdown",
   "metadata": {},
   "source": [
    "\n",
    "Now we define a funtion to get the new york city data such as Boroughs, Neighborhoods along with their latitude and longitude."
   ]
  },
  {
   "cell_type": "code",
   "execution_count": 21,
   "metadata": {},
   "outputs": [],
   "source": [
    "def get_new_york_data():\n",
    "    url='https://cocl.us/new_york_dataset'\n",
    "    resp=requests.get(url).json()\n",
    "    # all data is present in features label\n",
    "    features=resp['features']\n",
    "    \n",
    "    # define the dataframe columns\n",
    "    column_names = ['Borough', 'Neighborhood', 'Latitude', 'Longitude'] \n",
    "    # instantiate the dataframe\n",
    "    new_york_data = pd.DataFrame(columns=column_names)\n",
    "    \n",
    "    for data in features:\n",
    "        borough = data['properties']['borough'] \n",
    "        neighborhood_name = data['properties']['name']\n",
    "        \n",
    "        neighborhood_latlon = data['geometry']['coordinates']\n",
    "        neighborhood_lat = neighborhood_latlon[1]\n",
    "        neighborhood_lon = neighborhood_latlon[0]\n",
    "    \n",
    "        new_york_data = new_york_data.append({'Borough': borough,\n",
    "                                          'Neighborhood': neighborhood_name,\n",
    "                                          'Latitude': neighborhood_lat,\n",
    "                                          'Longitude': neighborhood_lon}, ignore_index=True)\n",
    "    \n",
    "    return new_york_data\n"
   ]
  },
  {
   "cell_type": "code",
   "execution_count": 22,
   "metadata": {},
   "outputs": [],
   "source": [
    "#call a function to get new york city data\n",
    "new_york_data=get_new_york_data()"
   ]
  },
  {
   "cell_type": "code",
   "execution_count": 23,
   "metadata": {},
   "outputs": [
    {
     "data": {
      "text/html": [
       "<div>\n",
       "<style scoped>\n",
       "    .dataframe tbody tr th:only-of-type {\n",
       "        vertical-align: middle;\n",
       "    }\n",
       "\n",
       "    .dataframe tbody tr th {\n",
       "        vertical-align: top;\n",
       "    }\n",
       "\n",
       "    .dataframe thead th {\n",
       "        text-align: right;\n",
       "    }\n",
       "</style>\n",
       "<table border=\"1\" class=\"dataframe\">\n",
       "  <thead>\n",
       "    <tr style=\"text-align: right;\">\n",
       "      <th></th>\n",
       "      <th>Borough</th>\n",
       "      <th>Neighborhood</th>\n",
       "      <th>Latitude</th>\n",
       "      <th>Longitude</th>\n",
       "    </tr>\n",
       "  </thead>\n",
       "  <tbody>\n",
       "    <tr>\n",
       "      <th>0</th>\n",
       "      <td>Bronx</td>\n",
       "      <td>Wakefield</td>\n",
       "      <td>40.894705</td>\n",
       "      <td>-73.847201</td>\n",
       "    </tr>\n",
       "    <tr>\n",
       "      <th>1</th>\n",
       "      <td>Bronx</td>\n",
       "      <td>Co-op City</td>\n",
       "      <td>40.874294</td>\n",
       "      <td>-73.829939</td>\n",
       "    </tr>\n",
       "    <tr>\n",
       "      <th>2</th>\n",
       "      <td>Bronx</td>\n",
       "      <td>Eastchester</td>\n",
       "      <td>40.887556</td>\n",
       "      <td>-73.827806</td>\n",
       "    </tr>\n",
       "    <tr>\n",
       "      <th>3</th>\n",
       "      <td>Bronx</td>\n",
       "      <td>Fieldston</td>\n",
       "      <td>40.895437</td>\n",
       "      <td>-73.905643</td>\n",
       "    </tr>\n",
       "    <tr>\n",
       "      <th>4</th>\n",
       "      <td>Bronx</td>\n",
       "      <td>Riverdale</td>\n",
       "      <td>40.890834</td>\n",
       "      <td>-73.912585</td>\n",
       "    </tr>\n",
       "  </tbody>\n",
       "</table>\n",
       "</div>"
      ],
      "text/plain": [
       "  Borough Neighborhood   Latitude  Longitude\n",
       "0   Bronx    Wakefield  40.894705 -73.847201\n",
       "1   Bronx   Co-op City  40.874294 -73.829939\n",
       "2   Bronx  Eastchester  40.887556 -73.827806\n",
       "3   Bronx    Fieldston  40.895437 -73.905643\n",
       "4   Bronx    Riverdale  40.890834 -73.912585"
      ]
     },
     "execution_count": 23,
     "metadata": {},
     "output_type": "execute_result"
    }
   ],
   "source": [
    "new_york_data.head()"
   ]
  },
  {
   "cell_type": "code",
   "execution_count": 24,
   "metadata": {},
   "outputs": [
    {
     "data": {
      "text/plain": [
       "(306, 4)"
      ]
     },
     "execution_count": 24,
     "metadata": {},
     "output_type": "execute_result"
    }
   ],
   "source": [
    "new_york_data.shape"
   ]
  },
  {
   "cell_type": "markdown",
   "metadata": {},
   "source": [
    "there arae 306 neighborhoods in new york"
   ]
  },
  {
   "cell_type": "code",
   "execution_count": 25,
   "metadata": {},
   "outputs": [
    {
     "data": {
      "image/png": "[encoded data removed]",
      "text/plain": [
       "<Figure size 900x500 with 1 Axes>"
      ]
     },
     "metadata": {
      "needs_background": "light"
     },
     "output_type": "display_data"
    }
   ],
   "source": [
    "# create a bar plot for the neighborhoods\n",
    "\n",
    "plt.figure(figsize=(9,5), dpi = 100)\n",
    "# title\n",
    "plt.title('Number of Neighborhoods for each Borough in New York City')\n",
    "#On x-axis\n",
    "plt.xlabel('Borough', fontsize = 15)\n",
    "#On y-axis\n",
    "plt.ylabel('No.of Neighborhood', fontsize=15)\n",
    "#giving a bar plot\n",
    "new_york_data.groupby('Borough')['Neighborhood'].count().plot(kind='bar')\n",
    "#legend\n",
    "plt.legend()\n",
    "#displays the plot\n",
    "plt.show()"
   ]
  },
  {
   "cell_type": "markdown",
   "metadata": {},
   "source": [
    "Queens has highest number of neighborhoods.\n",
    "\n",
    "Let's find all the Italian Restaurants in New York"
   ]
  },
  {
   "cell_type": "code",
   "execution_count": 27,
   "metadata": {},
   "outputs": [
    {
     "name": "stdout",
     "output_type": "stream",
     "text": [
      "( 1 / 306 ) Italian Restaurants in Wakefield, Bronx:0\n",
      "( 2 / 306 ) Italian Restaurants in Co-op City, Bronx:0\n",
      "( 3 / 306 ) Italian Restaurants in Eastchester, Bronx:0\n",
      "( 4 / 306 ) Italian Restaurants in Fieldston, Bronx:0\n",
      "( 5 / 306 ) Italian Restaurants in Riverdale, Bronx:1\n",
      "( 6 / 306 ) Italian Restaurants in Kingsbridge, Bronx:1\n",
      "( 7 / 306 ) Italian Restaurants in Marble Hill, Manhattan:0\n",
      "( 8 / 306 ) Italian Restaurants in Woodlawn, Bronx:2\n",
      "( 9 / 306 ) Italian Restaurants in Norwood, Bronx:0\n",
      "( 10 / 306 ) Italian Restaurants in Williamsbridge, Bronx:0\n",
      "( 11 / 306 ) Italian Restaurants in Baychester, Bronx:2\n",
      "( 12 / 306 ) Italian Restaurants in Pelham Parkway, Bronx:3\n",
      "( 13 / 306 ) Italian Restaurants in City Island, Bronx:3\n",
      "( 14 / 306 ) Italian Restaurants in Bedford Park, Bronx:0\n",
      "( 15 / 306 ) Italian Restaurants in University Heights, Bronx:0\n",
      "( 16 / 306 ) Italian Restaurants in Morris Heights, Bronx:0\n",
      "( 17 / 306 ) Italian Restaurants in Fordham, Bronx:9\n",
      "( 18 / 306 ) Italian Restaurants in East Tremont, Bronx:0\n",
      "( 19 / 306 ) Italian Restaurants in West Farms, Bronx:0\n",
      "( 20 / 306 ) Italian Restaurants in High  Bridge, Bronx:0\n",
      "( 21 / 306 ) Italian Restaurants in Melrose, Bronx:2\n",
      "( 22 / 306 ) Italian Restaurants in Mott Haven, Bronx:1\n",
      "( 23 / 306 ) Italian Restaurants in Port Morris, Bronx:0\n",
      "( 24 / 306 ) Italian Restaurants in Longwood, Bronx:0\n",
      "( 25 / 306 ) Italian Restaurants in Hunts Point, Bronx:0\n",
      "( 26 / 306 ) Italian Restaurants in Morrisania, Bronx:1\n",
      "( 27 / 306 ) Italian Restaurants in Soundview, Bronx:0\n",
      "( 28 / 306 ) Italian Restaurants in Clason Point, Bronx:0\n",
      "( 29 / 306 ) Italian Restaurants in Throgs Neck, Bronx:6\n",
      "( 30 / 306 ) Italian Restaurants in Country Club, Bronx:4\n",
      "( 31 / 306 ) Italian Restaurants in Parkchester, Bronx:0\n",
      "( 32 / 306 ) Italian Restaurants in Westchester Square, Bronx:1\n",
      "( 33 / 306 ) Italian Restaurants in Van Nest, Bronx:2\n",
      "( 34 / 306 ) Italian Restaurants in Morris Park, Bronx:5\n",
      "( 35 / 306 ) Italian Restaurants in Belmont, Bronx:15\n",
      "( 36 / 306 ) Italian Restaurants in Spuyten Duyvil, Bronx:1\n",
      "( 37 / 306 ) Italian Restaurants in North Riverdale, Bronx:2\n",
      "( 38 / 306 ) Italian Restaurants in Pelham Bay, Bronx:4\n",
      "( 39 / 306 ) Italian Restaurants in Schuylerville, Bronx:4\n",
      "( 40 / 306 ) Italian Restaurants in Edgewater Park, Bronx:6\n",
      "( 41 / 306 ) Italian Restaurants in Castle Hill, Bronx:0\n",
      "( 42 / 306 ) Italian Restaurants in Olinville, Bronx:0\n",
      "( 43 / 306 ) Italian Restaurants in Pelham Gardens, Bronx:1\n",
      "( 44 / 306 ) Italian Restaurants in Concourse, Bronx:1\n",
      "( 45 / 306 ) Italian Restaurants in Unionport, Bronx:0\n",
      "( 46 / 306 ) Italian Restaurants in Edenwald, Bronx:0\n",
      "( 47 / 306 ) Italian Restaurants in Bay Ridge, Brooklyn:6\n",
      "( 48 / 306 ) Italian Restaurants in Bensonhurst, Brooklyn:5\n",
      "( 49 / 306 ) Italian Restaurants in Sunset Park, Brooklyn:1\n",
      "( 50 / 306 ) Italian Restaurants in Greenpoint, Brooklyn:2\n",
      "( 51 / 306 ) Italian Restaurants in Gravesend, Brooklyn:1\n",
      "( 52 / 306 ) Italian Restaurants in Brighton Beach, Brooklyn:0\n",
      "( 53 / 306 ) Italian Restaurants in Sheepshead Bay, Brooklyn:5\n",
      "( 54 / 306 ) Italian Restaurants in Manhattan Terrace, Brooklyn:0\n",
      "( 55 / 306 ) Italian Restaurants in Flatbush, Brooklyn:1\n",
      "( 56 / 306 ) Italian Restaurants in Crown Heights, Brooklyn:0\n",
      "( 57 / 306 ) Italian Restaurants in East Flatbush, Brooklyn:0\n",
      "( 58 / 306 ) Italian Restaurants in Kensington, Brooklyn:0\n",
      "( 59 / 306 ) Italian Restaurants in Windsor Terrace, Brooklyn:5\n",
      "( 60 / 306 ) Italian Restaurants in Prospect Heights, Brooklyn:0\n",
      "( 61 / 306 ) Italian Restaurants in Brownsville, Brooklyn:0\n",
      "( 62 / 306 ) Italian Restaurants in Williamsburg, Brooklyn:1\n",
      "( 63 / 306 ) Italian Restaurants in Bushwick, Brooklyn:2\n",
      "( 64 / 306 ) Italian Restaurants in Bedford Stuyvesant, Brooklyn:0\n",
      "( 65 / 306 ) Italian Restaurants in Brooklyn Heights, Brooklyn:4\n",
      "( 66 / 306 ) Italian Restaurants in Cobble Hill, Brooklyn:5\n",
      "( 67 / 306 ) Italian Restaurants in Carroll Gardens, Brooklyn:4\n",
      "( 68 / 306 ) Italian Restaurants in Red Hook, Brooklyn:0\n",
      "( 69 / 306 ) Italian Restaurants in Gowanus, Brooklyn:4\n",
      "( 70 / 306 ) Italian Restaurants in Fort Greene, Brooklyn:5\n",
      "( 71 / 306 ) Italian Restaurants in Park Slope, Brooklyn:1\n",
      "( 72 / 306 ) Italian Restaurants in Cypress Hills, Brooklyn:0\n",
      "( 73 / 306 ) Italian Restaurants in East New York, Brooklyn:0\n",
      "( 74 / 306 ) Italian Restaurants in Starrett City, Brooklyn:1\n",
      "( 75 / 306 ) Italian Restaurants in Canarsie, Brooklyn:0\n",
      "( 76 / 306 ) Italian Restaurants in Flatlands, Brooklyn:0\n",
      "( 77 / 306 ) Italian Restaurants in Mill Island, Brooklyn:0\n",
      "( 78 / 306 ) Italian Restaurants in Manhattan Beach, Brooklyn:5\n",
      "( 79 / 306 ) Italian Restaurants in Coney Island, Brooklyn:1\n",
      "( 80 / 306 ) Italian Restaurants in Bath Beach, Brooklyn:3\n",
      "( 81 / 306 ) Italian Restaurants in Borough Park, Brooklyn:0\n",
      "( 82 / 306 ) Italian Restaurants in Dyker Heights, Brooklyn:2\n",
      "( 83 / 306 ) Italian Restaurants in Gerritsen Beach, Brooklyn:2\n",
      "( 84 / 306 ) Italian Restaurants in Marine Park, Brooklyn:2\n",
      "( 85 / 306 ) Italian Restaurants in Clinton Hill, Brooklyn:6\n",
      "( 86 / 306 ) Italian Restaurants in Sea Gate, Brooklyn:0\n",
      "( 87 / 306 ) Italian Restaurants in Downtown, Brooklyn:1\n",
      "( 88 / 306 ) Italian Restaurants in Boerum Hill, Brooklyn:1\n",
      "( 89 / 306 ) Italian Restaurants in Prospect Lefferts Gardens, Brooklyn:2\n",
      "( 90 / 306 ) Italian Restaurants in Ocean Hill, Brooklyn:0\n",
      "( 91 / 306 ) Italian Restaurants in City Line, Brooklyn:0\n",
      "( 92 / 306 ) Italian Restaurants in Bergen Beach, Brooklyn:1\n",
      "( 93 / 306 ) Italian Restaurants in Midwood, Brooklyn:0\n",
      "( 94 / 306 ) Italian Restaurants in Prospect Park South, Brooklyn:1\n",
      "( 95 / 306 ) Italian Restaurants in Georgetown, Brooklyn:4\n",
      "( 96 / 306 ) Italian Restaurants in East Williamsburg, Brooklyn:3\n",
      "( 97 / 306 ) Italian Restaurants in North Side, Brooklyn:2\n",
      "( 98 / 306 ) Italian Restaurants in South Side, Brooklyn:1\n",
      "( 99 / 306 ) Italian Restaurants in Ocean Parkway, Brooklyn:3\n",
      "( 100 / 306 ) Italian Restaurants in Fort Hamilton, Brooklyn:4\n",
      "( 101 / 306 ) Italian Restaurants in Chinatown, Manhattan:0\n",
      "( 102 / 306 ) Italian Restaurants in Washington Heights, Manhattan:1\n",
      "( 103 / 306 ) Italian Restaurants in Inwood, Manhattan:0\n",
      "( 104 / 306 ) Italian Restaurants in Hamilton Heights, Manhattan:2\n",
      "( 105 / 306 ) Italian Restaurants in Manhattanville, Manhattan:4\n",
      "( 106 / 306 ) Italian Restaurants in Central Harlem, Manhattan:1\n",
      "( 107 / 306 ) Italian Restaurants in East Harlem, Manhattan:3\n",
      "( 108 / 306 ) Italian Restaurants in Upper East Side, Manhattan:8\n",
      "( 109 / 306 ) Italian Restaurants in Yorkville, Manhattan:6\n",
      "( 110 / 306 ) Italian Restaurants in Lenox Hill, Manhattan:5\n",
      "( 111 / 306 ) Italian Restaurants in Roosevelt Island, Manhattan:2\n",
      "( 112 / 306 ) Italian Restaurants in Upper West Side, Manhattan:5\n",
      "( 113 / 306 ) Italian Restaurants in Lincoln Square, Manhattan:5\n",
      "( 114 / 306 ) Italian Restaurants in Clinton, Manhattan:4\n",
      "( 115 / 306 ) Italian Restaurants in Midtown, Manhattan:0\n",
      "( 116 / 306 ) Italian Restaurants in Murray Hill, Manhattan:0\n",
      "( 117 / 306 ) Italian Restaurants in Chelsea, Manhattan:2\n",
      "( 118 / 306 ) Italian Restaurants in Greenwich Village, Manhattan:9\n",
      "( 119 / 306 ) Italian Restaurants in East Village, Manhattan:2\n",
      "( 120 / 306 ) Italian Restaurants in Lower East Side, Manhattan:5\n",
      "( 121 / 306 ) Italian Restaurants in Tribeca, Manhattan:2\n",
      "( 122 / 306 ) Italian Restaurants in Little Italy, Manhattan:4\n",
      "( 123 / 306 ) Italian Restaurants in Soho, Manhattan:8\n",
      "( 124 / 306 ) Italian Restaurants in West Village, Manhattan:7\n",
      "( 125 / 306 ) Italian Restaurants in Manhattan Valley, Manhattan:2\n",
      "( 126 / 306 ) Italian Restaurants in Morningside Heights, Manhattan:5\n",
      "( 127 / 306 ) Italian Restaurants in Gramercy, Manhattan:1\n",
      "( 128 / 306 ) Italian Restaurants in Battery Park City, Manhattan:3\n",
      "( 129 / 306 ) Italian Restaurants in Financial District, Manhattan:2\n",
      "( 130 / 306 ) Italian Restaurants in Astoria, Queens:1\n",
      "( 131 / 306 ) Italian Restaurants in Woodside, Queens:0\n",
      "( 132 / 306 ) Italian Restaurants in Jackson Heights, Queens:1\n"
     ]
    },
    {
     "ename": "KeyError",
     "evalue": "'groups'",
     "output_type": "error",
     "traceback": [
      "\u001b[1;31m---------------------------------------------------------------------------\u001b[0m",
      "\u001b[1;31mKeyError\u001b[0m                                  Traceback (most recent call last)",
      "\u001b[1;32m<ipython-input-27-75008d4f6fff>\u001b[0m in \u001b[0;36m<module>\u001b[1;34m\u001b[0m\n\u001b[0;32m      5\u001b[0m \u001b[1;32mfor\u001b[0m \u001b[0mrow\u001b[0m \u001b[1;32min\u001b[0m \u001b[0mnew_york_data\u001b[0m\u001b[1;33m.\u001b[0m\u001b[0mvalues\u001b[0m\u001b[1;33m.\u001b[0m\u001b[0mtolist\u001b[0m\u001b[1;33m(\u001b[0m\u001b[1;33m)\u001b[0m\u001b[1;33m:\u001b[0m\u001b[1;33m\u001b[0m\u001b[1;33m\u001b[0m\u001b[0m\n\u001b[0;32m      6\u001b[0m     \u001b[0mBorough\u001b[0m\u001b[1;33m,\u001b[0m \u001b[0mNeighborhood\u001b[0m\u001b[1;33m,\u001b[0m \u001b[0mLatitude\u001b[0m\u001b[1;33m,\u001b[0m \u001b[0mLongitude\u001b[0m\u001b[1;33m=\u001b[0m\u001b[0mrow\u001b[0m\u001b[1;33m\u001b[0m\u001b[1;33m\u001b[0m\u001b[0m\n\u001b[1;32m----> 7\u001b[1;33m     \u001b[0mvenues\u001b[0m \u001b[1;33m=\u001b[0m \u001b[0mget_venues\u001b[0m\u001b[1;33m(\u001b[0m\u001b[0mLatitude\u001b[0m\u001b[1;33m,\u001b[0m\u001b[0mLongitude\u001b[0m\u001b[1;33m)\u001b[0m\u001b[1;33m\u001b[0m\u001b[1;33m\u001b[0m\u001b[0m\n\u001b[0m\u001b[0;32m      8\u001b[0m     \u001b[0mitalian_restaurants\u001b[0m\u001b[1;33m=\u001b[0m\u001b[0mvenues\u001b[0m\u001b[1;33m[\u001b[0m\u001b[0mvenues\u001b[0m\u001b[1;33m[\u001b[0m\u001b[1;34m'Category'\u001b[0m\u001b[1;33m]\u001b[0m\u001b[1;33m==\u001b[0m\u001b[1;34m'Italian Restaurant'\u001b[0m\u001b[1;33m]\u001b[0m\u001b[1;33m\u001b[0m\u001b[1;33m\u001b[0m\u001b[0m\n\u001b[0;32m      9\u001b[0m     \u001b[0mprint\u001b[0m\u001b[1;33m(\u001b[0m\u001b[1;34m'('\u001b[0m\u001b[1;33m,\u001b[0m\u001b[0mcount\u001b[0m\u001b[1;33m,\u001b[0m\u001b[1;34m'/'\u001b[0m\u001b[1;33m,\u001b[0m\u001b[0mlen\u001b[0m\u001b[1;33m(\u001b[0m\u001b[0mnew_york_data\u001b[0m\u001b[1;33m)\u001b[0m\u001b[1;33m,\u001b[0m\u001b[1;34m')'\u001b[0m\u001b[1;33m,\u001b[0m\u001b[1;34m'Italian Restaurants in '\u001b[0m\u001b[1;33m+\u001b[0m\u001b[0mNeighborhood\u001b[0m\u001b[1;33m+\u001b[0m\u001b[1;34m', '\u001b[0m\u001b[1;33m+\u001b[0m\u001b[0mBorough\u001b[0m\u001b[1;33m+\u001b[0m\u001b[1;34m':'\u001b[0m\u001b[1;33m+\u001b[0m\u001b[0mstr\u001b[0m\u001b[1;33m(\u001b[0m\u001b[0mlen\u001b[0m\u001b[1;33m(\u001b[0m\u001b[0mitalian_restaurants\u001b[0m\u001b[1;33m)\u001b[0m\u001b[1;33m)\u001b[0m\u001b[1;33m)\u001b[0m\u001b[1;33m\u001b[0m\u001b[1;33m\u001b[0m\u001b[0m\n",
      "\u001b[1;32m<ipython-input-19-e31182b66340>\u001b[0m in \u001b[0;36mget_venues\u001b[1;34m(lat, lng)\u001b[0m\n\u001b[0;32m     20\u001b[0m     \u001b[1;31m# get all the data\u001b[0m\u001b[1;33m\u001b[0m\u001b[1;33m\u001b[0m\u001b[1;33m\u001b[0m\u001b[0m\n\u001b[0;32m     21\u001b[0m     \u001b[0mresults\u001b[0m \u001b[1;33m=\u001b[0m \u001b[0mrequests\u001b[0m\u001b[1;33m.\u001b[0m\u001b[0mget\u001b[0m\u001b[1;33m(\u001b[0m\u001b[0murl\u001b[0m\u001b[1;33m)\u001b[0m\u001b[1;33m.\u001b[0m\u001b[0mjson\u001b[0m\u001b[1;33m(\u001b[0m\u001b[1;33m)\u001b[0m\u001b[1;33m\u001b[0m\u001b[1;33m\u001b[0m\u001b[0m\n\u001b[1;32m---> 22\u001b[1;33m     \u001b[0mvenue_data\u001b[0m\u001b[1;33m=\u001b[0m\u001b[0mresults\u001b[0m\u001b[1;33m[\u001b[0m\u001b[1;34m\"response\"\u001b[0m\u001b[1;33m]\u001b[0m\u001b[1;33m[\u001b[0m\u001b[1;34m\"groups\"\u001b[0m\u001b[1;33m]\u001b[0m\u001b[1;33m[\u001b[0m\u001b[1;36m0\u001b[0m\u001b[1;33m]\u001b[0m\u001b[1;33m[\u001b[0m\u001b[1;34m\"items\"\u001b[0m\u001b[1;33m]\u001b[0m\u001b[1;33m\u001b[0m\u001b[1;33m\u001b[0m\u001b[0m\n\u001b[0m\u001b[0;32m     23\u001b[0m     \u001b[0mvenue_details\u001b[0m\u001b[1;33m=\u001b[0m\u001b[1;33m[\u001b[0m\u001b[1;33m]\u001b[0m\u001b[1;33m\u001b[0m\u001b[1;33m\u001b[0m\u001b[0m\n\u001b[0;32m     24\u001b[0m     \u001b[1;32mfor\u001b[0m \u001b[0mrow\u001b[0m \u001b[1;32min\u001b[0m \u001b[0mvenue_data\u001b[0m\u001b[1;33m:\u001b[0m\u001b[1;33m\u001b[0m\u001b[1;33m\u001b[0m\u001b[0m\n",
      "\u001b[1;31mKeyError\u001b[0m: 'groups'"
     ]
    }
   ],
   "source": [
    "\n",
    "        \n",
    "# prepare neighborhood list that contains italian resturants\n",
    "column_names=['Borough', 'Neighborhood', 'ID','Name']\n",
    "italian_rest_ny=pd.DataFrame(columns=column_names)\n",
    "count=1\n",
    "for row in new_york_data.values.tolist():\n",
    "    Borough, Neighborhood, Latitude, Longitude=row\n",
    "    venues = get_venues(Latitude,Longitude)\n",
    "    italian_restaurants=venues[venues['Category']=='Italian Restaurant']   \n",
    "    print('(',count,'/',len(new_york_data),')','Italian Restaurants in '+Neighborhood+', '+Borough+':'+str(len(italian_restaurants)))\n",
    "    for restaurant_detail in italian_restaurants.values.tolist():\n",
    "        id, name , category=restaurant_detail\n",
    "        italian_rest_ny = italian_rest_ny.append({'Borough': Borough,\n",
    "                                                'Neighborhood': Neighborhood, \n",
    "                                                'ID': id,\n",
    "                                                'Name' : name\n",
    "                                               }, ignore_index=True)\n",
    "    count+=1\n",
    "\n",
    "    \n"
   ]
  },
  {
   "cell_type": "code",
   "execution_count": 28,
   "metadata": {},
   "outputs": [
    {
     "data": {
      "text/html": [
       "<div>\n",
       "<style scoped>\n",
       "    .dataframe tbody tr th:only-of-type {\n",
       "        vertical-align: middle;\n",
       "    }\n",
       "\n",
       "    .dataframe tbody tr th {\n",
       "        vertical-align: top;\n",
       "    }\n",
       "\n",
       "    .dataframe thead th {\n",
       "        text-align: right;\n",
       "    }\n",
       "</style>\n",
       "<table border=\"1\" class=\"dataframe\">\n",
       "  <thead>\n",
       "    <tr style=\"text-align: right;\">\n",
       "      <th></th>\n",
       "      <th>Borough</th>\n",
       "      <th>Neighborhood</th>\n",
       "      <th>ID</th>\n",
       "      <th>Name</th>\n",
       "    </tr>\n",
       "  </thead>\n",
       "  <tbody>\n",
       "    <tr>\n",
       "      <th>0</th>\n",
       "      <td>Bronx</td>\n",
       "      <td>Riverdale</td>\n",
       "      <td>55aaee4d498e3cbb70e625d6</td>\n",
       "      <td>Bella Notte Pizzeria</td>\n",
       "    </tr>\n",
       "    <tr>\n",
       "      <th>1</th>\n",
       "      <td>Bronx</td>\n",
       "      <td>Kingsbridge</td>\n",
       "      <td>55aaee4d498e3cbb70e625d6</td>\n",
       "      <td>Bella Notte Pizzeria</td>\n",
       "    </tr>\n",
       "    <tr>\n",
       "      <th>2</th>\n",
       "      <td>Bronx</td>\n",
       "      <td>Woodlawn</td>\n",
       "      <td>511edb6de4b0d58346fd272d</td>\n",
       "      <td>Patrizia's Of Woodlawn</td>\n",
       "    </tr>\n",
       "    <tr>\n",
       "      <th>3</th>\n",
       "      <td>Bronx</td>\n",
       "      <td>Woodlawn</td>\n",
       "      <td>4d3cb3026b3d236a066a6364</td>\n",
       "      <td>Rivers Edge</td>\n",
       "    </tr>\n",
       "    <tr>\n",
       "      <th>4</th>\n",
       "      <td>Bronx</td>\n",
       "      <td>Baychester</td>\n",
       "      <td>4c9518076b35a143d5dc21dc</td>\n",
       "      <td>Fratelli's</td>\n",
       "    </tr>\n",
       "  </tbody>\n",
       "</table>\n",
       "</div>"
      ],
      "text/plain": [
       "  Borough Neighborhood                        ID                    Name\n",
       "0   Bronx    Riverdale  55aaee4d498e3cbb70e625d6    Bella Notte Pizzeria\n",
       "1   Bronx  Kingsbridge  55aaee4d498e3cbb70e625d6    Bella Notte Pizzeria\n",
       "2   Bronx     Woodlawn  511edb6de4b0d58346fd272d  Patrizia's Of Woodlawn\n",
       "3   Bronx     Woodlawn  4d3cb3026b3d236a066a6364             Rivers Edge\n",
       "4   Bronx   Baychester  4c9518076b35a143d5dc21dc              Fratelli's"
      ]
     },
     "execution_count": 28,
     "metadata": {},
     "output_type": "execute_result"
    }
   ],
   "source": [
    "italian_rest_ny.head()"
   ]
  },
  {
   "cell_type": "code",
   "execution_count": 29,
   "metadata": {},
   "outputs": [
    {
     "data": {
      "text/plain": [
       "(274, 4)"
      ]
     },
     "execution_count": 29,
     "metadata": {},
     "output_type": "execute_result"
    }
   ],
   "source": [
    "italian_rest_ny.shape"
   ]
  },
  {
   "cell_type": "code",
   "execution_count": 62,
   "metadata": {},
   "outputs": [
    {
     "data": {
      "image/png": "[encoded data removed]",
      "text/plain": [
       "<Figure size 900x500 with 1 Axes>"
      ]
     },
     "metadata": {
      "needs_background": "light"
     },
     "output_type": "display_data"
    }
   ],
   "source": [
    "#bar plot for number of italian restaurants\n",
    "\n",
    "\n",
    "plt.figure(figsize=(9,5), dpi = 100)\n",
    "# title\n",
    "plt.title('Number of Italian Resturants for each Borough in New York City')\n",
    "#On x-axis\n",
    "plt.xlabel('Borough', fontsize = 15)\n",
    "#On y-axis\n",
    "plt.ylabel('No. of Itslisn Restaurants', fontsize=15)\n",
    "#giving a bar plot\n",
    "italian_rest_ny.groupby('Borough')['ID'].count().plot(kind='bar')\n",
    "#legend\n",
    "plt.legend()\n",
    "#displays the plot\n",
    "plt.show()"
   ]
  },
  {
   "cell_type": "code",
   "execution_count": 31,
   "metadata": {},
   "outputs": [
    {
     "data": {
      "image/png": "[encoded data removed]",
      "text/plain": [
       "<Figure size 900x500 with 1 Axes>"
      ]
     },
     "metadata": {
      "needs_background": "light"
     },
     "output_type": "display_data"
    }
   ],
   "source": [
    "# restaurants by neighborhood\n",
    "\n",
    "plt.figure(figsize=(9,5), dpi = 100)\n",
    "# title\n",
    "plt.title('Number of Italian Restaurants by Neighborhood in New York City')\n",
    "#On x-axis\n",
    "plt.xlabel('Neighborhood', fontsize = 15)\n",
    "#On y-axis\n",
    "plt.ylabel('No. of Italian Restaurants', fontsize=15)\n",
    "#giving a bar plot\n",
    "italian_rest_ny.groupby('Neighborhood')['ID'].count().nlargest(5).plot(kind='bar')\n",
    "#legend\n",
    "plt.legend()\n",
    "#displays the plot\n",
    "plt.show()"
   ]
  },
  {
   "cell_type": "code",
   "execution_count": 32,
   "metadata": {},
   "outputs": [
    {
     "data": {
      "text/html": [
       "<div>\n",
       "<style scoped>\n",
       "    .dataframe tbody tr th:only-of-type {\n",
       "        vertical-align: middle;\n",
       "    }\n",
       "\n",
       "    .dataframe tbody tr th {\n",
       "        vertical-align: top;\n",
       "    }\n",
       "\n",
       "    .dataframe thead th {\n",
       "        text-align: right;\n",
       "    }\n",
       "</style>\n",
       "<table border=\"1\" class=\"dataframe\">\n",
       "  <thead>\n",
       "    <tr style=\"text-align: right;\">\n",
       "      <th></th>\n",
       "      <th>Borough</th>\n",
       "      <th>Neighborhood</th>\n",
       "      <th>ID</th>\n",
       "      <th>Name</th>\n",
       "    </tr>\n",
       "  </thead>\n",
       "  <tbody>\n",
       "    <tr>\n",
       "      <th>43</th>\n",
       "      <td>Bronx</td>\n",
       "      <td>Belmont</td>\n",
       "      <td>4acf80aef964a52025d420e3</td>\n",
       "      <td>Tino's Delicatessen</td>\n",
       "    </tr>\n",
       "    <tr>\n",
       "      <th>44</th>\n",
       "      <td>Bronx</td>\n",
       "      <td>Belmont</td>\n",
       "      <td>4bb6470cef159c7465b275f7</td>\n",
       "      <td>Calabria Pork Store</td>\n",
       "    </tr>\n",
       "    <tr>\n",
       "      <th>45</th>\n",
       "      <td>Bronx</td>\n",
       "      <td>Belmont</td>\n",
       "      <td>4af0fa29f964a52060e021e3</td>\n",
       "      <td>Antonio's Trattoria</td>\n",
       "    </tr>\n",
       "    <tr>\n",
       "      <th>46</th>\n",
       "      <td>Bronx</td>\n",
       "      <td>Belmont</td>\n",
       "      <td>4a8e261cf964a5201c1220e3</td>\n",
       "      <td>Roberto's</td>\n",
       "    </tr>\n",
       "    <tr>\n",
       "      <th>47</th>\n",
       "      <td>Bronx</td>\n",
       "      <td>Belmont</td>\n",
       "      <td>4af71916f964a520cf0522e3</td>\n",
       "      <td>Michaelangelo's Coal Fired Brick Oven Pizza Re...</td>\n",
       "    </tr>\n",
       "    <tr>\n",
       "      <th>48</th>\n",
       "      <td>Bronx</td>\n",
       "      <td>Belmont</td>\n",
       "      <td>4b5a4c8ff964a52049bb28e3</td>\n",
       "      <td>Emilia's Restaurant</td>\n",
       "    </tr>\n",
       "    <tr>\n",
       "      <th>49</th>\n",
       "      <td>Bronx</td>\n",
       "      <td>Belmont</td>\n",
       "      <td>59050f51b23dfa5f6649e678</td>\n",
       "      <td>Arthur Avenue Fiasco</td>\n",
       "    </tr>\n",
       "    <tr>\n",
       "      <th>50</th>\n",
       "      <td>Bronx</td>\n",
       "      <td>Belmont</td>\n",
       "      <td>4aa425bef964a5208e4520e3</td>\n",
       "      <td>Dominick's Restaurant</td>\n",
       "    </tr>\n",
       "    <tr>\n",
       "      <th>51</th>\n",
       "      <td>Bronx</td>\n",
       "      <td>Belmont</td>\n",
       "      <td>4c79d294278eb713f6a05580</td>\n",
       "      <td>Cafe al Mercato</td>\n",
       "    </tr>\n",
       "    <tr>\n",
       "      <th>52</th>\n",
       "      <td>Bronx</td>\n",
       "      <td>Belmont</td>\n",
       "      <td>4bc22a22920eb713bcc51b2c</td>\n",
       "      <td>Tra Di Noi</td>\n",
       "    </tr>\n",
       "    <tr>\n",
       "      <th>53</th>\n",
       "      <td>Bronx</td>\n",
       "      <td>Belmont</td>\n",
       "      <td>4aa193d5f964a520124120e3</td>\n",
       "      <td>Mario's Restaurant &amp; Catering</td>\n",
       "    </tr>\n",
       "    <tr>\n",
       "      <th>54</th>\n",
       "      <td>Bronx</td>\n",
       "      <td>Belmont</td>\n",
       "      <td>4b5514c4f964a5207cda27e3</td>\n",
       "      <td>Enzo's</td>\n",
       "    </tr>\n",
       "    <tr>\n",
       "      <th>55</th>\n",
       "      <td>Bronx</td>\n",
       "      <td>Belmont</td>\n",
       "      <td>4cb0d382ef1b370419643e00</td>\n",
       "      <td>David Greco's Arthur Avenue Trattoria</td>\n",
       "    </tr>\n",
       "    <tr>\n",
       "      <th>56</th>\n",
       "      <td>Bronx</td>\n",
       "      <td>Belmont</td>\n",
       "      <td>53ff939c498e6b601dfa3979</td>\n",
       "      <td>San Gennaro Ristorante</td>\n",
       "    </tr>\n",
       "    <tr>\n",
       "      <th>57</th>\n",
       "      <td>Bronx</td>\n",
       "      <td>Belmont</td>\n",
       "      <td>4b5bc595f964a520431529e3</td>\n",
       "      <td>Pasquale Riggaletto's</td>\n",
       "    </tr>\n",
       "  </tbody>\n",
       "</table>\n",
       "</div>"
      ],
      "text/plain": [
       "   Borough Neighborhood                        ID  \\\n",
       "43   Bronx      Belmont  4acf80aef964a52025d420e3   \n",
       "44   Bronx      Belmont  4bb6470cef159c7465b275f7   \n",
       "45   Bronx      Belmont  4af0fa29f964a52060e021e3   \n",
       "46   Bronx      Belmont  4a8e261cf964a5201c1220e3   \n",
       "47   Bronx      Belmont  4af71916f964a520cf0522e3   \n",
       "48   Bronx      Belmont  4b5a4c8ff964a52049bb28e3   \n",
       "49   Bronx      Belmont  59050f51b23dfa5f6649e678   \n",
       "50   Bronx      Belmont  4aa425bef964a5208e4520e3   \n",
       "51   Bronx      Belmont  4c79d294278eb713f6a05580   \n",
       "52   Bronx      Belmont  4bc22a22920eb713bcc51b2c   \n",
       "53   Bronx      Belmont  4aa193d5f964a520124120e3   \n",
       "54   Bronx      Belmont  4b5514c4f964a5207cda27e3   \n",
       "55   Bronx      Belmont  4cb0d382ef1b370419643e00   \n",
       "56   Bronx      Belmont  53ff939c498e6b601dfa3979   \n",
       "57   Bronx      Belmont  4b5bc595f964a520431529e3   \n",
       "\n",
       "                                                 Name  \n",
       "43                                Tino's Delicatessen  \n",
       "44                                Calabria Pork Store  \n",
       "45                                Antonio's Trattoria  \n",
       "46                                          Roberto's  \n",
       "47  Michaelangelo's Coal Fired Brick Oven Pizza Re...  \n",
       "48                                Emilia's Restaurant  \n",
       "49                               Arthur Avenue Fiasco  \n",
       "50                              Dominick's Restaurant  \n",
       "51                                    Cafe al Mercato  \n",
       "52                                         Tra Di Noi  \n",
       "53                      Mario's Restaurant & Catering  \n",
       "54                                             Enzo's  \n",
       "55              David Greco's Arthur Avenue Trattoria  \n",
       "56                             San Gennaro Ristorante  \n",
       "57                              Pasquale Riggaletto's  "
      ]
     },
     "execution_count": 32,
     "metadata": {},
     "output_type": "execute_result"
    }
   ],
   "source": [
    "\n",
    "italian_rest_ny[italian_rest_ny['Neighborhood']=='Belmont']"
   ]
  },
  {
   "cell_type": "markdown",
   "metadata": {},
   "source": [
    "There are 15 italian restaurants in the Belmont Neighborhood in the Bronx"
   ]
  },
  {
   "cell_type": "code",
   "execution_count": 33,
   "metadata": {},
   "outputs": [
    {
     "name": "stdout",
     "output_type": "stream",
     "text": [
      "                         ID                  Name  Likes  Rating  Tips\n",
      "0  55aaee4d498e3cbb70e625d6  Bella Notte Pizzeria      9     6.8     4\n",
      "( 1 / 274 ) processed\n",
      "                         ID                  Name  Likes  Rating  Tips\n",
      "0  55aaee4d498e3cbb70e625d6  Bella Notte Pizzeria      9     6.8     4\n",
      "( 2 / 274 ) processed\n",
      "                         ID                    Name  Likes  Rating  Tips\n",
      "0  511edb6de4b0d58346fd272d  Patrizia's Of Woodlawn     18     8.6    14\n",
      "( 3 / 274 ) processed\n",
      "                         ID         Name  Likes  Rating  Tips\n",
      "0  4d3cb3026b3d236a066a6364  Rivers Edge     10     6.9     8\n",
      "( 4 / 274 ) processed\n",
      "                         ID        Name  Likes  Rating  Tips\n",
      "0  4c9518076b35a143d5dc21dc  Fratelli's     22     8.7     6\n",
      "( 5 / 274 ) processed\n",
      "                         ID          Name  Likes  Rating  Tips\n",
      "0  5411894d498e4a254a11a46c  Olive Garden     26     7.3     8\n",
      "( 6 / 274 ) processed\n",
      "                         ID    Name  Likes  Rating  Tips\n",
      "0  4bf96ae65317a593d837017f  Enzo's     26     8.4    11\n",
      "( 7 / 274 ) processed\n",
      "                         ID        Name  Likes  Rating  Tips\n",
      "0  4b10591af964a5205f6e23e3  Patricia's     84     8.6    39\n",
      "( 8 / 274 ) processed\n",
      "                         ID         Name  Likes  Rating  Tips\n",
      "0  4b47f069f964a5208c4426e3  Pasta Pasta      9     6.3     8\n",
      "( 9 / 274 ) processed\n",
      "                         ID                       Name  Likes  Rating  Tips\n",
      "0  4514ed4df964a520e5391fe3  Artie's Steak and Seafood     44     8.2    27\n",
      "( 10 / 274 ) processed\n",
      "                         ID                      Name  Likes  Rating  Tips\n",
      "0  55905336498e1a9217de2a7a  Scavello's On The Island     13     8.6     2\n",
      "( 11 / 274 ) processed\n",
      "                         ID                  Name  Likes  Rating  Tips\n",
      "0  4b80a1c3f964a520488230e3  Portofino Restaurant     10     5.8    10\n",
      "( 12 / 274 ) processed\n",
      "                         ID                 Name  Likes  Rating  Tips\n",
      "0  4acf80aef964a52025d420e3  Tino's Delicatessen    145     9.2    48\n",
      "( 13 / 274 ) processed\n",
      "                         ID                 Name  Likes  Rating  Tips\n",
      "0  4bb6470cef159c7465b275f7  Calabria Pork Store     30     9.0    13\n",
      "( 14 / 274 ) processed\n",
      "                         ID                 Name  Likes  Rating  Tips\n",
      "0  4b5a4c8ff964a52049bb28e3  Emilia's Restaurant     32     8.2    16\n",
      "( 15 / 274 ) processed\n",
      "                         ID                   Name  Likes  Rating  Tips\n",
      "0  4aa425bef964a5208e4520e3  Dominick's Restaurant    101     8.0    37\n",
      "( 16 / 274 ) processed\n",
      "                         ID  \\\n",
      "0  4af71916f964a520cf0522e3   \n",
      "\n",
      "                                                Name  Likes  Rating  Tips  \n",
      "0  Michaelangelo's Coal Fired Brick Oven Pizza Re...     39     7.8    25  \n",
      "( 17 / 274 ) processed\n",
      "                         ID                  Name  Likes  Rating  Tips\n",
      "0  59050f51b23dfa5f6649e678  Arthur Avenue Fiasco     10     8.0     4\n",
      "( 18 / 274 ) processed\n",
      "                         ID    Name  Likes  Rating  Tips\n",
      "0  4b5514c4f964a5207cda27e3  Enzo's     43     7.7    19\n",
      "( 19 / 274 ) processed\n",
      "                         ID                    Name  Likes  Rating  Tips\n",
      "0  53ff939c498e6b601dfa3979  San Gennaro Ristorante     17     7.5     1\n",
      "( 20 / 274 ) processed\n",
      "                         ID                Name  Likes  Rating  Tips\n",
      "0  4c9b9e7b9c663704b90463fd  Gerbasi Ristorante     15     7.3    12\n",
      "( 21 / 274 ) processed\n",
      "                         ID         Name  Likes  Rating  Tips\n",
      "0  5956be26123a195de6701c2b  Porto Salvo     10     8.2     5\n",
      "( 22 / 274 ) processed\n",
      "                         ID                          Name  Likes  Rating  Tips\n",
      "0  4bb692672ea19521a6ecab2f  Venice Restaurant & Pizzeria      8     7.2     9\n",
      "( 23 / 274 ) processed\n",
      "                         ID     Name  Likes  Rating  Tips\n",
      "0  4e6acfb1ae60950955a9b02b  Wish 37      3     6.6     6\n",
      "( 24 / 274 ) processed\n",
      "                         ID         Name  Likes  Rating  Tips\n",
      "0  5956be26123a195de6701c2b  Porto Salvo     10     8.2     5\n",
      "( 25 / 274 ) processed\n",
      "                         ID                   Name  Likes  Rating  Tips\n",
      "0  4b4e3e87f964a5209de626e3  Patricia's of Tremont     48     7.8    29\n",
      "( 26 / 274 ) processed\n",
      "                         ID            Name  Likes  Rating  Tips\n",
      "0  4b958fccf964a52091a934e3  Ice House Cafe     11     7.4    14\n",
      "( 27 / 274 ) processed\n",
      "                         ID           Name  Likes  Rating  Tips\n",
      "0  4d4456d93616b60c953fe3c2  Tosca Marquee     20     6.9    14\n",
      "( 28 / 274 ) processed\n",
      "                         ID                        Name  Likes  Rating  Tips\n",
      "0  4c1d717b8b3aa59363a99a5f  Spoto's Italian Restaurant      6     6.6    11\n",
      "( 29 / 274 ) processed\n",
      "                         ID                         Name  Likes  Rating  Tips\n",
      "0  4b6cb1c0f964a520d04c2ce3  Mamma Lucia's Pizza & Pasta      3     6.6    10\n",
      "( 30 / 274 ) processed\n",
      "                         ID                       Name  Likes  Rating  Tips\n",
      "0  4b491198f964a5208f6426e3  Rino's Italian Restaurant      6     6.6     1\n",
      "( 31 / 274 ) processed\n",
      "                         ID                      Name  Likes  Rating  Tips\n",
      "0  4c9e1ef2542b224b70a3f09f  Lucca Italian Restaurant      7     8.1     4\n",
      "( 32 / 274 ) processed\n",
      "                         ID                           Name  Likes  Rating  \\\n",
      "0  4b85b6b3f964a5209b6e31e3  Giovanni's Italian Restaurant     11     7.5   \n",
      "\n",
      "   Tips  \n",
      "0    10  \n",
      "( 33 / 274 ) processed\n",
      "                         ID         Name  Likes  Rating  Tips\n",
      "0  4b634812f964a520936f2ae3  Vito's Deli      6     6.9     5\n",
      "( 34 / 274 ) processed\n",
      "Empty DataFrame\n",
      "Columns: [ID, Name, Likes, Rating, Tips]\n",
      "Index: []\n",
      "No data available for id= 51f69c7a498e0655f8d77b3e\n",
      "( 35 / 274 ) processed\n",
      "                         ID       Name  Likes  Rating  Tips\n",
      "0  51aa5120498ec578a5ad0ac4  The Pines      4     6.9     4\n",
      "( 36 / 274 ) processed\n",
      "                         ID               Name  Likes  Rating  Tips\n",
      "0  3fd66200f964a5207bf11ee3  F & J Pine Tavern    176     8.2    72\n",
      "( 37 / 274 ) processed\n",
      "                         ID                 Name  Likes  Rating  Tips\n",
      "0  4bd1d5fdcaff95211c6ed1f0  900 Park Restaurant     57     7.4    19\n",
      "( 38 / 274 ) processed\n",
      "                         ID        Name  Likes  Rating  Tips\n",
      "0  4b10591af964a5205f6e23e3  Patricia's     84     8.6    39\n",
      "( 39 / 274 ) processed\n",
      "                         ID    Name  Likes  Rating  Tips\n",
      "0  4bf96ae65317a593d837017f  Enzo's     26     8.4    11\n",
      "( 40 / 274 ) processed\n",
      "                         ID                 Name  Likes  Rating  Tips\n",
      "0  4bd1d5fdcaff95211c6ed1f0  900 Park Restaurant     57     7.4    19\n",
      "( 41 / 274 ) processed\n",
      "                         ID       Name  Likes  Rating  Tips\n",
      "0  51aa5120498ec578a5ad0ac4  The Pines      4     6.9     4\n",
      "( 42 / 274 ) processed\n",
      "                         ID         Name  Likes  Rating  Tips\n",
      "0  4b47f069f964a5208c4426e3  Pasta Pasta      9     6.3     8\n",
      "( 43 / 274 ) processed\n",
      "                         ID                 Name  Likes  Rating  Tips\n",
      "0  4acf80aef964a52025d420e3  Tino's Delicatessen    145     9.2    48\n",
      "( 44 / 274 ) processed\n",
      "                         ID                 Name  Likes  Rating  Tips\n",
      "0  4bb6470cef159c7465b275f7  Calabria Pork Store     30     9.0    13\n",
      "( 45 / 274 ) processed\n",
      "                         ID                 Name  Likes  Rating  Tips\n",
      "0  4af0fa29f964a52060e021e3  Antonio's Trattoria    117     8.8    44\n",
      "( 46 / 274 ) processed\n",
      "                         ID       Name  Likes  Rating  Tips\n",
      "0  4a8e261cf964a5201c1220e3  Roberto's     65     8.6    23\n",
      "( 47 / 274 ) processed\n",
      "                         ID  \\\n",
      "0  4af71916f964a520cf0522e3   \n",
      "\n",
      "                                                Name  Likes  Rating  Tips  \n",
      "0  Michaelangelo's Coal Fired Brick Oven Pizza Re...     39     7.8    25  \n",
      "( 48 / 274 ) processed\n",
      "                         ID                 Name  Likes  Rating  Tips\n",
      "0  4b5a4c8ff964a52049bb28e3  Emilia's Restaurant     32     8.2    16\n",
      "( 49 / 274 ) processed\n",
      "                         ID                  Name  Likes  Rating  Tips\n",
      "0  59050f51b23dfa5f6649e678  Arthur Avenue Fiasco     10     8.0     4\n",
      "( 50 / 274 ) processed\n"
     ]
    },
    {
     "ename": "KeyError",
     "evalue": "'venue'",
     "output_type": "error",
     "traceback": [
      "\u001b[1;31m---------------------------------------------------------------------------\u001b[0m",
      "\u001b[1;31mKeyError\u001b[0m                                  Traceback (most recent call last)",
      "\u001b[1;32m<ipython-input-33-cf86ddd22799>\u001b[0m in \u001b[0;36m<module>\u001b[1;34m\u001b[0m\n\u001b[0;32m     10\u001b[0m     \u001b[0mBorough\u001b[0m\u001b[1;33m,\u001b[0m\u001b[0mNeighborhood\u001b[0m\u001b[1;33m,\u001b[0m\u001b[0mID\u001b[0m\u001b[1;33m,\u001b[0m\u001b[0mName\u001b[0m\u001b[1;33m=\u001b[0m\u001b[0mrow\u001b[0m\u001b[1;33m\u001b[0m\u001b[1;33m\u001b[0m\u001b[0m\n\u001b[0;32m     11\u001b[0m     \u001b[1;32mtry\u001b[0m\u001b[1;33m:\u001b[0m\u001b[1;33m\u001b[0m\u001b[1;33m\u001b[0m\u001b[0m\n\u001b[1;32m---> 12\u001b[1;33m         \u001b[0mvenue_details\u001b[0m\u001b[1;33m=\u001b[0m\u001b[0mget_venue_details\u001b[0m\u001b[1;33m(\u001b[0m\u001b[0mID\u001b[0m\u001b[1;33m)\u001b[0m\u001b[1;33m\u001b[0m\u001b[1;33m\u001b[0m\u001b[0m\n\u001b[0m\u001b[0;32m     13\u001b[0m         \u001b[0mprint\u001b[0m\u001b[1;33m(\u001b[0m\u001b[0mvenue_details\u001b[0m\u001b[1;33m)\u001b[0m\u001b[1;33m\u001b[0m\u001b[1;33m\u001b[0m\u001b[0m\n\u001b[0;32m     14\u001b[0m         \u001b[0mid\u001b[0m\u001b[1;33m,\u001b[0m\u001b[0mname\u001b[0m\u001b[1;33m,\u001b[0m\u001b[0mlikes\u001b[0m\u001b[1;33m,\u001b[0m\u001b[0mrating\u001b[0m\u001b[1;33m,\u001b[0m\u001b[0mtips\u001b[0m\u001b[1;33m=\u001b[0m\u001b[0mvenue_details\u001b[0m\u001b[1;33m.\u001b[0m\u001b[0mvalues\u001b[0m\u001b[1;33m.\u001b[0m\u001b[0mtolist\u001b[0m\u001b[1;33m(\u001b[0m\u001b[1;33m)\u001b[0m\u001b[1;33m[\u001b[0m\u001b[1;36m0\u001b[0m\u001b[1;33m]\u001b[0m\u001b[1;33m\u001b[0m\u001b[1;33m\u001b[0m\u001b[0m\n",
      "\u001b[1;32m<ipython-input-20-eb2d56c98932>\u001b[0m in \u001b[0;36mget_venue_details\u001b[1;34m(venue_id)\u001b[0m\n\u001b[0;32m     14\u001b[0m     \u001b[1;31m# get all the data\u001b[0m\u001b[1;33m\u001b[0m\u001b[1;33m\u001b[0m\u001b[1;33m\u001b[0m\u001b[0m\n\u001b[0;32m     15\u001b[0m     \u001b[0mresults\u001b[0m \u001b[1;33m=\u001b[0m \u001b[0mrequests\u001b[0m\u001b[1;33m.\u001b[0m\u001b[0mget\u001b[0m\u001b[1;33m(\u001b[0m\u001b[0murl\u001b[0m\u001b[1;33m)\u001b[0m\u001b[1;33m.\u001b[0m\u001b[0mjson\u001b[0m\u001b[1;33m(\u001b[0m\u001b[1;33m)\u001b[0m\u001b[1;33m\u001b[0m\u001b[1;33m\u001b[0m\u001b[0m\n\u001b[1;32m---> 16\u001b[1;33m     \u001b[0mvenue_data\u001b[0m\u001b[1;33m=\u001b[0m\u001b[0mresults\u001b[0m\u001b[1;33m[\u001b[0m\u001b[1;34m'response'\u001b[0m\u001b[1;33m]\u001b[0m\u001b[1;33m[\u001b[0m\u001b[1;34m'venue'\u001b[0m\u001b[1;33m]\u001b[0m\u001b[1;33m\u001b[0m\u001b[1;33m\u001b[0m\u001b[0m\n\u001b[0m\u001b[0;32m     17\u001b[0m     \u001b[0mvenue_details\u001b[0m\u001b[1;33m=\u001b[0m\u001b[1;33m[\u001b[0m\u001b[1;33m]\u001b[0m\u001b[1;33m\u001b[0m\u001b[1;33m\u001b[0m\u001b[0m\n\u001b[0;32m     18\u001b[0m     \u001b[1;32mtry\u001b[0m\u001b[1;33m:\u001b[0m\u001b[1;33m\u001b[0m\u001b[1;33m\u001b[0m\u001b[0m\n",
      "\u001b[1;31mKeyError\u001b[0m: 'venue'"
     ]
    }
   ],
   "source": [
    "#lets see the restaurant rankings\n",
    "\n",
    "# prepare neighborhood list that contains italian resturants\n",
    "column_names=['Borough', 'Neighborhood', 'ID','Name','Likes','Rating','Tips']\n",
    "italian_rest_stats_ny=pd.DataFrame(columns=column_names)\n",
    "count=1\n",
    "\n",
    "\n",
    "for row in italian_rest_ny.values.tolist():\n",
    "    Borough,Neighborhood,ID,Name=row\n",
    "    try:\n",
    "        venue_details=get_venue_details(ID)\n",
    "        print(venue_details)\n",
    "        id,name,likes,rating,tips=venue_details.values.tolist()[0]\n",
    "    except IndexError:\n",
    "        print('No data available for id=',ID)\n",
    "        # we will assign 0 value for these resturants as they may have been \n",
    "        #recently opened or details does not exist in FourSquare Database\n",
    "        id,name,likes,rating,tips=[0]*5\n",
    "    print('(',count,'/',len(italian_rest_ny),')','processed')\n",
    "    italian_rest_stats_ny = italian_rest_stats_ny.append({'Borough': Borough,\n",
    "                                                'Neighborhood': Neighborhood, \n",
    "                                                'ID': id,\n",
    "                                                'Name' : name,\n",
    "                                                'Likes' : likes,\n",
    "                                                'Rating' : rating,\n",
    "                                                'Tips' : tips\n",
    "                                               }, ignore_index=True)\n",
    "    count+=1"
   ]
  },
  {
   "cell_type": "code",
   "execution_count": 34,
   "metadata": {},
   "outputs": [
    {
     "data": {
      "text/html": [
       "<div>\n",
       "<style scoped>\n",
       "    .dataframe tbody tr th:only-of-type {\n",
       "        vertical-align: middle;\n",
       "    }\n",
       "\n",
       "    .dataframe tbody tr th {\n",
       "        vertical-align: top;\n",
       "    }\n",
       "\n",
       "    .dataframe thead th {\n",
       "        text-align: right;\n",
       "    }\n",
       "</style>\n",
       "<table border=\"1\" class=\"dataframe\">\n",
       "  <thead>\n",
       "    <tr style=\"text-align: right;\">\n",
       "      <th></th>\n",
       "      <th>Borough</th>\n",
       "      <th>Neighborhood</th>\n",
       "      <th>ID</th>\n",
       "      <th>Name</th>\n",
       "      <th>Likes</th>\n",
       "      <th>Rating</th>\n",
       "      <th>Tips</th>\n",
       "    </tr>\n",
       "  </thead>\n",
       "  <tbody>\n",
       "    <tr>\n",
       "      <th>0</th>\n",
       "      <td>Bronx</td>\n",
       "      <td>Riverdale</td>\n",
       "      <td>55aaee4d498e3cbb70e625d6</td>\n",
       "      <td>Bella Notte Pizzeria</td>\n",
       "      <td>9</td>\n",
       "      <td>6.8</td>\n",
       "      <td>4</td>\n",
       "    </tr>\n",
       "    <tr>\n",
       "      <th>1</th>\n",
       "      <td>Bronx</td>\n",
       "      <td>Kingsbridge</td>\n",
       "      <td>55aaee4d498e3cbb70e625d6</td>\n",
       "      <td>Bella Notte Pizzeria</td>\n",
       "      <td>9</td>\n",
       "      <td>6.8</td>\n",
       "      <td>4</td>\n",
       "    </tr>\n",
       "    <tr>\n",
       "      <th>2</th>\n",
       "      <td>Bronx</td>\n",
       "      <td>Woodlawn</td>\n",
       "      <td>511edb6de4b0d58346fd272d</td>\n",
       "      <td>Patrizia's Of Woodlawn</td>\n",
       "      <td>18</td>\n",
       "      <td>8.6</td>\n",
       "      <td>14</td>\n",
       "    </tr>\n",
       "    <tr>\n",
       "      <th>3</th>\n",
       "      <td>Bronx</td>\n",
       "      <td>Woodlawn</td>\n",
       "      <td>4d3cb3026b3d236a066a6364</td>\n",
       "      <td>Rivers Edge</td>\n",
       "      <td>10</td>\n",
       "      <td>6.9</td>\n",
       "      <td>8</td>\n",
       "    </tr>\n",
       "    <tr>\n",
       "      <th>4</th>\n",
       "      <td>Bronx</td>\n",
       "      <td>Baychester</td>\n",
       "      <td>4c9518076b35a143d5dc21dc</td>\n",
       "      <td>Fratelli's</td>\n",
       "      <td>22</td>\n",
       "      <td>8.7</td>\n",
       "      <td>6</td>\n",
       "    </tr>\n",
       "  </tbody>\n",
       "</table>\n",
       "</div>"
      ],
      "text/plain": [
       "  Borough Neighborhood                        ID                    Name  \\\n",
       "0   Bronx    Riverdale  55aaee4d498e3cbb70e625d6    Bella Notte Pizzeria   \n",
       "1   Bronx  Kingsbridge  55aaee4d498e3cbb70e625d6    Bella Notte Pizzeria   \n",
       "2   Bronx     Woodlawn  511edb6de4b0d58346fd272d  Patrizia's Of Woodlawn   \n",
       "3   Bronx     Woodlawn  4d3cb3026b3d236a066a6364             Rivers Edge   \n",
       "4   Bronx   Baychester  4c9518076b35a143d5dc21dc              Fratelli's   \n",
       "\n",
       "  Likes  Rating Tips  \n",
       "0     9     6.8    4  \n",
       "1     9     6.8    4  \n",
       "2    18     8.6   14  \n",
       "3    10     6.9    8  \n",
       "4    22     8.7    6  "
      ]
     },
     "execution_count": 34,
     "metadata": {},
     "output_type": "execute_result"
    }
   ],
   "source": [
    "italian_rest_stats_ny.head()"
   ]
  },
  {
   "cell_type": "code",
   "execution_count": 35,
   "metadata": {},
   "outputs": [
    {
     "data": {
      "text/plain": [
       "(50, 7)"
      ]
     },
     "execution_count": 35,
     "metadata": {},
     "output_type": "execute_result"
    }
   ],
   "source": [
    "italian_rest_stats_ny.shape"
   ]
  },
  {
   "cell_type": "code",
   "execution_count": 36,
   "metadata": {},
   "outputs": [
    {
     "data": {
      "text/plain": [
       "(274, 4)"
      ]
     },
     "execution_count": 36,
     "metadata": {},
     "output_type": "execute_result"
    }
   ],
   "source": [
    "italian_rest_ny.shape"
   ]
  },
  {
   "cell_type": "markdown",
   "metadata": {},
   "source": [
    "lets save this data to a csv"
   ]
  },
  {
   "cell_type": "code",
   "execution_count": 37,
   "metadata": {},
   "outputs": [],
   "source": [
    "italian_rest_stats_ny.to_csv('italian_rest_stats_ny__2.csv', index=False)"
   ]
  },
  {
   "cell_type": "code",
   "execution_count": 38,
   "metadata": {},
   "outputs": [],
   "source": [
    "italian_rest_stats_ny_csv=pd.read_csv('italian_rest_stats_ny__2.csv')"
   ]
  },
  {
   "cell_type": "code",
   "execution_count": 39,
   "metadata": {},
   "outputs": [
    {
     "data": {
      "text/plain": [
       "(50, 7)"
      ]
     },
     "execution_count": 39,
     "metadata": {},
     "output_type": "execute_result"
    }
   ],
   "source": [
    "italian_rest_stats_ny_csv.shape"
   ]
  },
  {
   "cell_type": "code",
   "execution_count": 40,
   "metadata": {},
   "outputs": [
    {
     "data": {
      "text/html": [
       "<div>\n",
       "<style scoped>\n",
       "    .dataframe tbody tr th:only-of-type {\n",
       "        vertical-align: middle;\n",
       "    }\n",
       "\n",
       "    .dataframe tbody tr th {\n",
       "        vertical-align: top;\n",
       "    }\n",
       "\n",
       "    .dataframe thead th {\n",
       "        text-align: right;\n",
       "    }\n",
       "</style>\n",
       "<table border=\"1\" class=\"dataframe\">\n",
       "  <thead>\n",
       "    <tr style=\"text-align: right;\">\n",
       "      <th></th>\n",
       "      <th>Borough</th>\n",
       "      <th>Neighborhood</th>\n",
       "      <th>ID</th>\n",
       "      <th>Name</th>\n",
       "      <th>Likes</th>\n",
       "      <th>Rating</th>\n",
       "      <th>Tips</th>\n",
       "    </tr>\n",
       "  </thead>\n",
       "  <tbody>\n",
       "    <tr>\n",
       "      <th>0</th>\n",
       "      <td>Bronx</td>\n",
       "      <td>Riverdale</td>\n",
       "      <td>55aaee4d498e3cbb70e625d6</td>\n",
       "      <td>Bella Notte Pizzeria</td>\n",
       "      <td>9</td>\n",
       "      <td>6.8</td>\n",
       "      <td>4</td>\n",
       "    </tr>\n",
       "    <tr>\n",
       "      <th>1</th>\n",
       "      <td>Bronx</td>\n",
       "      <td>Kingsbridge</td>\n",
       "      <td>55aaee4d498e3cbb70e625d6</td>\n",
       "      <td>Bella Notte Pizzeria</td>\n",
       "      <td>9</td>\n",
       "      <td>6.8</td>\n",
       "      <td>4</td>\n",
       "    </tr>\n",
       "    <tr>\n",
       "      <th>2</th>\n",
       "      <td>Bronx</td>\n",
       "      <td>Woodlawn</td>\n",
       "      <td>511edb6de4b0d58346fd272d</td>\n",
       "      <td>Patrizia's Of Woodlawn</td>\n",
       "      <td>18</td>\n",
       "      <td>8.6</td>\n",
       "      <td>14</td>\n",
       "    </tr>\n",
       "    <tr>\n",
       "      <th>3</th>\n",
       "      <td>Bronx</td>\n",
       "      <td>Woodlawn</td>\n",
       "      <td>4d3cb3026b3d236a066a6364</td>\n",
       "      <td>Rivers Edge</td>\n",
       "      <td>10</td>\n",
       "      <td>6.9</td>\n",
       "      <td>8</td>\n",
       "    </tr>\n",
       "    <tr>\n",
       "      <th>4</th>\n",
       "      <td>Bronx</td>\n",
       "      <td>Baychester</td>\n",
       "      <td>4c9518076b35a143d5dc21dc</td>\n",
       "      <td>Fratelli's</td>\n",
       "      <td>22</td>\n",
       "      <td>8.7</td>\n",
       "      <td>6</td>\n",
       "    </tr>\n",
       "  </tbody>\n",
       "</table>\n",
       "</div>"
      ],
      "text/plain": [
       "  Borough Neighborhood                        ID                    Name  \\\n",
       "0   Bronx    Riverdale  55aaee4d498e3cbb70e625d6    Bella Notte Pizzeria   \n",
       "1   Bronx  Kingsbridge  55aaee4d498e3cbb70e625d6    Bella Notte Pizzeria   \n",
       "2   Bronx     Woodlawn  511edb6de4b0d58346fd272d  Patrizia's Of Woodlawn   \n",
       "3   Bronx     Woodlawn  4d3cb3026b3d236a066a6364             Rivers Edge   \n",
       "4   Bronx   Baychester  4c9518076b35a143d5dc21dc              Fratelli's   \n",
       "\n",
       "   Likes  Rating  Tips  \n",
       "0      9     6.8     4  \n",
       "1      9     6.8     4  \n",
       "2     18     8.6    14  \n",
       "3     10     6.9     8  \n",
       "4     22     8.7     6  "
      ]
     },
     "execution_count": 40,
     "metadata": {},
     "output_type": "execute_result"
    }
   ],
   "source": [
    "italian_rest_stats_ny_csv.head()"
   ]
  },
  {
   "cell_type": "code",
   "execution_count": 41,
   "metadata": {},
   "outputs": [
    {
     "name": "stdout",
     "output_type": "stream",
     "text": [
      "<class 'pandas.core.frame.DataFrame'>\n",
      "RangeIndex: 50 entries, 0 to 49\n",
      "Data columns (total 7 columns):\n",
      " #   Column        Non-Null Count  Dtype  \n",
      "---  ------        --------------  -----  \n",
      " 0   Borough       50 non-null     object \n",
      " 1   Neighborhood  50 non-null     object \n",
      " 2   ID            50 non-null     object \n",
      " 3   Name          50 non-null     object \n",
      " 4   Likes         50 non-null     object \n",
      " 5   Rating        50 non-null     float64\n",
      " 6   Tips          50 non-null     object \n",
      "dtypes: float64(1), object(6)\n",
      "memory usage: 2.9+ KB\n"
     ]
    }
   ],
   "source": [
    "italian_rest_stats_ny.info()"
   ]
  },
  {
   "cell_type": "code",
   "execution_count": 42,
   "metadata": {},
   "outputs": [],
   "source": [
    "italian_rest_stats_ny['Likes']=italian_rest_stats_ny['Likes'].astype('float64')\n",
    "italian_rest_stats_ny['Tips']=italian_rest_stats_ny['Tips'].astype('float64')"
   ]
  },
  {
   "cell_type": "code",
   "execution_count": 43,
   "metadata": {},
   "outputs": [
    {
     "name": "stdout",
     "output_type": "stream",
     "text": [
      "<class 'pandas.core.frame.DataFrame'>\n",
      "RangeIndex: 50 entries, 0 to 49\n",
      "Data columns (total 7 columns):\n",
      " #   Column        Non-Null Count  Dtype  \n",
      "---  ------        --------------  -----  \n",
      " 0   Borough       50 non-null     object \n",
      " 1   Neighborhood  50 non-null     object \n",
      " 2   ID            50 non-null     object \n",
      " 3   Name          50 non-null     object \n",
      " 4   Likes         50 non-null     float64\n",
      " 5   Rating        50 non-null     float64\n",
      " 6   Tips          50 non-null     float64\n",
      "dtypes: float64(3), object(4)\n",
      "memory usage: 2.9+ KB\n"
     ]
    }
   ],
   "source": [
    "italian_rest_stats_ny.info()"
   ]
  },
  {
   "cell_type": "code",
   "execution_count": 44,
   "metadata": {},
   "outputs": [
    {
     "data": {
      "text/plain": [
       "Borough                            Bronx\n",
       "Neighborhood                    Van Nest\n",
       "ID              3fd66200f964a5207bf11ee3\n",
       "Name                   F & J Pine Tavern\n",
       "Likes                                176\n",
       "Rating                               8.2\n",
       "Tips                                  72\n",
       "Name: 36, dtype: object"
      ]
     },
     "execution_count": 44,
     "metadata": {},
     "output_type": "execute_result"
    }
   ],
   "source": [
    "# Let's find the restaurant with the most likes\n",
    "italian_rest_stats_ny.iloc[italian_rest_stats_ny['Likes'].idxmax()]"
   ]
  },
  {
   "cell_type": "code",
   "execution_count": 45,
   "metadata": {},
   "outputs": [
    {
     "data": {
      "text/plain": [
       "Borough                            Bronx\n",
       "Neighborhood                     Fordham\n",
       "ID              4acf80aef964a52025d420e3\n",
       "Name                 Tino's Delicatessen\n",
       "Likes                                145\n",
       "Rating                               9.2\n",
       "Tips                                  48\n",
       "Name: 12, dtype: object"
      ]
     },
     "execution_count": 45,
     "metadata": {},
     "output_type": "execute_result"
    }
   ],
   "source": [
    "# Restaurant with the highest rating\n",
    "italian_rest_stats_ny.iloc[italian_rest_stats_ny['Rating'].idxmax()]"
   ]
  },
  {
   "cell_type": "code",
   "execution_count": 46,
   "metadata": {},
   "outputs": [
    {
     "data": {
      "text/plain": [
       "Borough                            Bronx\n",
       "Neighborhood                    Van Nest\n",
       "ID              3fd66200f964a5207bf11ee3\n",
       "Name                   F & J Pine Tavern\n",
       "Likes                                176\n",
       "Rating                               8.2\n",
       "Tips                                  72\n",
       "Name: 36, dtype: object"
      ]
     },
     "execution_count": 46,
     "metadata": {},
     "output_type": "execute_result"
    }
   ],
   "source": [
    "# Restaurant with the most tips\n",
    "italian_rest_stats_ny.iloc[italian_rest_stats_ny['Tips'].idxmax()]"
   ]
  },
  {
   "cell_type": "code",
   "execution_count": 47,
   "metadata": {},
   "outputs": [],
   "source": [
    "#visualize the neighborhood with the highest average rating of restaurants\n",
    "\n",
    "ny_neighborhood_stats=italian_rest_stats_ny.groupby('Neighborhood',as_index=False).mean()[['Neighborhood','Rating']]\n",
    "ny_neighborhood_stats.columns=['Neighborhood','Average Rating']"
   ]
  },
  {
   "cell_type": "code",
   "execution_count": 48,
   "metadata": {},
   "outputs": [
    {
     "data": {
      "text/html": [
       "<div>\n",
       "<style scoped>\n",
       "    .dataframe tbody tr th:only-of-type {\n",
       "        vertical-align: middle;\n",
       "    }\n",
       "\n",
       "    .dataframe tbody tr th {\n",
       "        vertical-align: top;\n",
       "    }\n",
       "\n",
       "    .dataframe thead th {\n",
       "        text-align: right;\n",
       "    }\n",
       "</style>\n",
       "<table border=\"1\" class=\"dataframe\">\n",
       "  <thead>\n",
       "    <tr style=\"text-align: right;\">\n",
       "      <th></th>\n",
       "      <th>Neighborhood</th>\n",
       "      <th>Average Rating</th>\n",
       "    </tr>\n",
       "  </thead>\n",
       "  <tbody>\n",
       "    <tr>\n",
       "      <th>1</th>\n",
       "      <td>Belmont</td>\n",
       "      <td>8.514286</td>\n",
       "    </tr>\n",
       "    <tr>\n",
       "      <th>8</th>\n",
       "      <td>Morrisania</td>\n",
       "      <td>8.200000</td>\n",
       "    </tr>\n",
       "    <tr>\n",
       "      <th>4</th>\n",
       "      <td>Fordham</td>\n",
       "      <td>8.077778</td>\n",
       "    </tr>\n",
       "    <tr>\n",
       "      <th>0</th>\n",
       "      <td>Baychester</td>\n",
       "      <td>8.000000</td>\n",
       "    </tr>\n",
       "    <tr>\n",
       "      <th>13</th>\n",
       "      <td>Van Nest</td>\n",
       "      <td>7.800000</td>\n",
       "    </tr>\n",
       "    <tr>\n",
       "      <th>10</th>\n",
       "      <td>Pelham Parkway</td>\n",
       "      <td>7.766667</td>\n",
       "    </tr>\n",
       "    <tr>\n",
       "      <th>15</th>\n",
       "      <td>Woodlawn</td>\n",
       "      <td>7.750000</td>\n",
       "    </tr>\n",
       "    <tr>\n",
       "      <th>6</th>\n",
       "      <td>Melrose</td>\n",
       "      <td>7.700000</td>\n",
       "    </tr>\n",
       "    <tr>\n",
       "      <th>2</th>\n",
       "      <td>City Island</td>\n",
       "      <td>7.533333</td>\n",
       "    </tr>\n",
       "    <tr>\n",
       "      <th>7</th>\n",
       "      <td>Morris Park</td>\n",
       "      <td>7.520000</td>\n",
       "    </tr>\n",
       "  </tbody>\n",
       "</table>\n",
       "</div>"
      ],
      "text/plain": [
       "      Neighborhood  Average Rating\n",
       "1          Belmont        8.514286\n",
       "8       Morrisania        8.200000\n",
       "4          Fordham        8.077778\n",
       "0       Baychester        8.000000\n",
       "13        Van Nest        7.800000\n",
       "10  Pelham Parkway        7.766667\n",
       "15        Woodlawn        7.750000\n",
       "6          Melrose        7.700000\n",
       "2      City Island        7.533333\n",
       "7      Morris Park        7.520000"
      ]
     },
     "execution_count": 48,
     "metadata": {},
     "output_type": "execute_result"
    }
   ],
   "source": [
    "ny_neighborhood_stats.sort_values(['Average Rating'],ascending=False).head(10)"
   ]
  },
  {
   "cell_type": "code",
   "execution_count": 69,
   "metadata": {},
   "outputs": [
    {
     "data": {
      "image/png": "[encoded data removed]",
      "text/plain": [
       "<Figure size 900x500 with 1 Axes>"
      ]
     },
     "metadata": {
      "needs_background": "light"
     },
     "output_type": "display_data"
    }
   ],
   "source": [
    "#visualization\n",
    "plt.figure(figsize=(9,5), dpi = 100)\n",
    "# title\n",
    "plt.title('Average rating of Italian Restaurants by Neighborhood')\n",
    "#On x-axis\n",
    "plt.xlabel('neighborhood', fontsize = 15)\n",
    "#On y-axis\n",
    "plt.ylabel('Average Rating', fontsize=15)\n",
    "#giving a bar plot\n",
    "italian_rest_stats_ny.groupby('Neighborhood').mean()['Rating'].plot(kind='bar')\n",
    "#legend\n",
    "plt.legend()\n",
    "#displays the plot\n",
    "plt.show()"
   ]
  },
  {
   "cell_type": "code",
   "execution_count": 49,
   "metadata": {},
   "outputs": [],
   "source": [
    "#find the average rating of italian restaurants for each borough\n",
    "ny_borough_stats=italian_rest_stats_ny.groupby('Borough',as_index=False).mean()[['Borough','Rating']]\n",
    "ny_borough_stats.columns=['Borough','Average Rating']"
   ]
  },
  {
   "cell_type": "code",
   "execution_count": 50,
   "metadata": {},
   "outputs": [
    {
     "data": {
      "text/html": [
       "<div>\n",
       "<style scoped>\n",
       "    .dataframe tbody tr th:only-of-type {\n",
       "        vertical-align: middle;\n",
       "    }\n",
       "\n",
       "    .dataframe tbody tr th {\n",
       "        vertical-align: top;\n",
       "    }\n",
       "\n",
       "    .dataframe thead th {\n",
       "        text-align: right;\n",
       "    }\n",
       "</style>\n",
       "<table border=\"1\" class=\"dataframe\">\n",
       "  <thead>\n",
       "    <tr style=\"text-align: right;\">\n",
       "      <th></th>\n",
       "      <th>Borough</th>\n",
       "      <th>Average Rating</th>\n",
       "    </tr>\n",
       "  </thead>\n",
       "  <tbody>\n",
       "    <tr>\n",
       "      <th>0</th>\n",
       "      <td>Bronx</td>\n",
       "      <td>7.56</td>\n",
       "    </tr>\n",
       "  </tbody>\n",
       "</table>\n",
       "</div>"
      ],
      "text/plain": [
       "  Borough  Average Rating\n",
       "0   Bronx            7.56"
      ]
     },
     "execution_count": 50,
     "metadata": {},
     "output_type": "execute_result"
    }
   ],
   "source": [
    "ny_borough_stats.sort_values(['Average Rating'],ascending=False).head()"
   ]
  },
  {
   "cell_type": "code",
   "execution_count": 52,
   "metadata": {},
   "outputs": [
    {
     "data": {
      "image/png": "[encoded data removed]",
      "text/plain": [
       "<Figure size 900x500 with 1 Axes>"
      ]
     },
     "metadata": {
      "needs_background": "light"
     },
     "output_type": "display_data"
    }
   ],
   "source": [
    "#visualization\n",
    "plt.figure(figsize=(9,5), dpi = 100)\n",
    "# title\n",
    "plt.title('Average rating of Italian Restaurants in the Bronx')\n",
    "#On x-axis\n",
    "plt.xlabel('Borough', fontsize = 15)\n",
    "#On y-axis\n",
    "plt.ylabel('Average Rating', fontsize=15)\n",
    "#giving a bar plot\n",
    "italian_rest_stats_ny.groupby('Borough').mean()['Rating'].plot(kind='bar')\n",
    "#legend\n",
    "plt.legend()\n",
    "#displays the plot\n",
    "plt.show()"
   ]
  },
  {
   "cell_type": "code",
   "execution_count": 53,
   "metadata": {},
   "outputs": [],
   "source": [
    "ny_neighborhood_stats=ny_neighborhood_stats[ny_neighborhood_stats['Average Rating']>=9.0]"
   ]
  },
  {
   "cell_type": "code",
   "execution_count": 54,
   "metadata": {},
   "outputs": [
    {
     "data": {
      "text/html": [
       "<div>\n",
       "<style scoped>\n",
       "    .dataframe tbody tr th:only-of-type {\n",
       "        vertical-align: middle;\n",
       "    }\n",
       "\n",
       "    .dataframe tbody tr th {\n",
       "        vertical-align: top;\n",
       "    }\n",
       "\n",
       "    .dataframe thead th {\n",
       "        text-align: right;\n",
       "    }\n",
       "</style>\n",
       "<table border=\"1\" class=\"dataframe\">\n",
       "  <thead>\n",
       "    <tr style=\"text-align: right;\">\n",
       "      <th></th>\n",
       "      <th>Neighborhood</th>\n",
       "      <th>Average Rating</th>\n",
       "    </tr>\n",
       "  </thead>\n",
       "  <tbody>\n",
       "  </tbody>\n",
       "</table>\n",
       "</div>"
      ],
      "text/plain": [
       "Empty DataFrame\n",
       "Columns: [Neighborhood, Average Rating]\n",
       "Index: []"
      ]
     },
     "execution_count": 54,
     "metadata": {},
     "output_type": "execute_result"
    }
   ],
   "source": [
    "ny_neighborhood_stats"
   ]
  },
  {
   "cell_type": "code",
   "execution_count": 55,
   "metadata": {},
   "outputs": [],
   "source": [
    "#join datasets\n",
    "ny_neighborhood_stats=pd.merge(ny_neighborhood_stats,new_york_data, on='Neighborhood')"
   ]
  },
  {
   "cell_type": "code",
   "execution_count": 56,
   "metadata": {},
   "outputs": [],
   "source": [
    "ny_neighborhood_stats=ny_neighborhood_stats[['Borough','Neighborhood','Latitude','Longitude','Average Rating']]"
   ]
  },
  {
   "cell_type": "code",
   "execution_count": 57,
   "metadata": {},
   "outputs": [
    {
     "data": {
      "text/html": [
       "<div>\n",
       "<style scoped>\n",
       "    .dataframe tbody tr th:only-of-type {\n",
       "        vertical-align: middle;\n",
       "    }\n",
       "\n",
       "    .dataframe tbody tr th {\n",
       "        vertical-align: top;\n",
       "    }\n",
       "\n",
       "    .dataframe thead th {\n",
       "        text-align: right;\n",
       "    }\n",
       "</style>\n",
       "<table border=\"1\" class=\"dataframe\">\n",
       "  <thead>\n",
       "    <tr style=\"text-align: right;\">\n",
       "      <th></th>\n",
       "      <th>Borough</th>\n",
       "      <th>Neighborhood</th>\n",
       "      <th>Latitude</th>\n",
       "      <th>Longitude</th>\n",
       "      <th>Average Rating</th>\n",
       "    </tr>\n",
       "  </thead>\n",
       "  <tbody>\n",
       "  </tbody>\n",
       "</table>\n",
       "</div>"
      ],
      "text/plain": [
       "Empty DataFrame\n",
       "Columns: [Borough, Neighborhood, Latitude, Longitude, Average Rating]\n",
       "Index: []"
      ]
     },
     "execution_count": 57,
     "metadata": {},
     "output_type": "execute_result"
    }
   ],
   "source": [
    "\n",
    "ny_neighborhood_stats"
   ]
  },
  {
   "cell_type": "markdown",
   "metadata": {},
   "source": [
    "Show this data on a map:"
   ]
  },
  {
   "cell_type": "code",
   "execution_count": 58,
   "metadata": {},
   "outputs": [],
   "source": [
    "\n",
    "ny_map = folium.Map(location=geo_location('New York'), zoom_start=12)"
   ]
  },
  {
   "cell_type": "code",
   "execution_count": 64,
   "metadata": {},
   "outputs": [],
   "source": [
    "# instantiate a feature group for the incidents in the dataframe\n",
    "incidents = folium.map.FeatureGroup()\n",
    "\n",
    "# loop through the neighborhood and add each to the feature group\n",
    "for lat, lng, in ny_neighborhood_stats[['Latitude','Longitude']].values:\n",
    "    incidents.add_child(\n",
    "        folium.CircleMarker(\n",
    "            [lat, lng],\n",
    "            radius=10, # define how big you want the circle markers to be\n",
    "            color='yellow',\n",
    "            fill=True,\n",
    "            fill_color='blue',\n",
    "            fill_opacity=0.6\n",
    "        )\n",
    "    )"
   ]
  },
  {
   "cell_type": "code",
   "execution_count": 65,
   "metadata": {},
   "outputs": [],
   "source": [
    "ny_neighborhood_stats['Label']=ny_neighborhood_stats['Neighborhood']+', '+ny_neighborhood_stats['Borough']+'('+ny_neighborhood_stats['Average Rating'].map(str)+')'"
   ]
  },
  {
   "cell_type": "code",
   "execution_count": 66,
   "metadata": {},
   "outputs": [
    {
     "data": {
      "text/html": [
       "<div style=\"width:100%;\"><div style=\"position:relative;width:100%;height:0;padding-bottom:60%;\"><span style=\"color:#565656\">Make this Notebook Trusted to load map: File -> Trust Notebook</span><iframe src=\"about:blank\" style=\"position:absolute;width:100%;height:100%;left:0;top:0;border:none !important;\" data-html=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 onload=\"this.contentDocument.open();this.contentDocument.write(atob(this.getAttribute('data-html')));this.contentDocument.close();\" allowfullscreen webkitallowfullscreen mozallowfullscreen></iframe></div></div>"
      ],
      "text/plain": [
       "<folium.folium.Map at 0x24518773948>"
      ]
     },
     "execution_count": 66,
     "metadata": {},
     "output_type": "execute_result"
    }
   ],
   "source": [
    "# add pop-up text to each marker on the map\n",
    "for lat, lng, label in ny_neighborhood_stats[['Latitude','Longitude','Label']].values:\n",
    "    folium.Marker([lat, lng], popup=label).add_to(ny_map)        \n",
    "# add incidents to map\n",
    "ny_map.add_child(incidents)"
   ]
  },
  {
   "cell_type": "code",
   "execution_count": null,
   "metadata": {},
   "outputs": [],
   "source": []
  }
 ],
 "metadata": {
  "kernelspec": {
   "display_name": "Python 3",
   "language": "python",
   "name": "python3"
  },
  "language_info": {
   "codemirror_mode": {
    "name": "ipython",
    "version": 3
   },
   "file_extension": ".py",
   "mimetype": "text/x-python",
   "name": "python",
   "nbconvert_exporter": "python",
   "pygments_lexer": "ipython3",
   "version": "3.7.6"
  }
 },
 "nbformat": 4,
 "nbformat_minor": 4
}
